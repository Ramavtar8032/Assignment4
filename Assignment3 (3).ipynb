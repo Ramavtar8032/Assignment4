{
 "cells": [
  {
   "cell_type": "code",
   "execution_count": 6,
   "id": "7bb18eba-2234-4c32-ba1a-3f054a44f5be",
   "metadata": {},
   "outputs": [
    {
     "data": {
      "text/plain": [
       "[1,\n",
       " 3,\n",
       " 5,\n",
       " 7,\n",
       " 9,\n",
       " 11,\n",
       " 13,\n",
       " 15,\n",
       " 17,\n",
       " 19,\n",
       " 21,\n",
       " 23,\n",
       " 25,\n",
       " 27,\n",
       " 29,\n",
       " 31,\n",
       " 33,\n",
       " 35,\n",
       " 37,\n",
       " 39,\n",
       " 41,\n",
       " 43,\n",
       " 45,\n",
       " 47,\n",
       " 49,\n",
       " 51,\n",
       " 53,\n",
       " 55,\n",
       " 57,\n",
       " 59,\n",
       " 61,\n",
       " 63,\n",
       " 65,\n",
       " 67,\n",
       " 69,\n",
       " 71,\n",
       " 73,\n",
       " 75,\n",
       " 77,\n",
       " 79,\n",
       " 81,\n",
       " 83,\n",
       " 85,\n",
       " 87,\n",
       " 89,\n",
       " 91,\n",
       " 93,\n",
       " 95,\n",
       " 97,\n",
       " 99,\n",
       " 101,\n",
       " 103,\n",
       " 105,\n",
       " 107,\n",
       " 109,\n",
       " 111,\n",
       " 113,\n",
       " 115,\n",
       " 117,\n",
       " 119,\n",
       " 121,\n",
       " 123]"
      ]
     },
     "execution_count": 6,
     "metadata": {},
     "output_type": "execute_result"
    }
   ],
   "source": [
    "# Q1:-Ans\n",
    "# \" def \" keyword is used to craete a function\n",
    "\n",
    "def filterOddNum():\n",
    "    list=[]\n",
    "    for i in range(1,125) :\n",
    "        if i % 2 != 0 :\n",
    "            list.append(i)\n",
    "    return list\n",
    "\n",
    "filterOddNum()"
   ]
  },
  {
   "cell_type": "code",
   "execution_count": 3,
   "id": "ef44d393-15b0-44b4-9de0-44c765699ead",
   "metadata": {},
   "outputs": [
    {
     "name": "stdout",
     "output_type": "stream",
     "text": [
      "5\n",
      "10\n",
      "17\n",
      "26\n"
     ]
    }
   ],
   "source": [
    "# Q2:- Ans\n",
    "\n",
    "# args :-\n",
    "# *args allows us to pass a variable number of non-keyword arguments to a Python function.\n",
    "# In the function, we should use an asterisk (*) before the parameter name to pass a variable number of arguments.\n",
    "\n",
    "def add(*numbers):\n",
    "    total = 0\n",
    "    for num in numbers:\n",
    "        total += num\n",
    "    return total\n",
    "\n",
    "\n",
    "print(add(2, 3))\n",
    "print(add(2, 3, 5))\n",
    "print(add(2, 3, 5, 7))\n",
    "print(add(2, 3, 5, 7, 9))"
   ]
  },
  {
   "cell_type": "code",
   "execution_count": 9,
   "id": "31518c3f-3b6a-469b-8950-6e187da3400c",
   "metadata": {},
   "outputs": [
    {
     "name": "stdout",
     "output_type": "stream",
     "text": [
      "20\n",
      "30\n",
      "12\n"
     ]
    }
   ],
   "source": [
    "\n",
    "#kwargs:-\n",
    "# **kwargs allows us to pass a variable number of keyword arguments to a Python function. \n",
    "# In the function, we use the double-asterisk (**) before the parameter name to denote this type of argument.\n",
    "def total_fruits(**fruits):\n",
    "    total = 0\n",
    "    for amount in fruits.values():\n",
    "        total += amount\n",
    "    return total\n",
    "\n",
    "\n",
    "print(total_fruits(banana=5, mango=7, apple=8))\n",
    "print(total_fruits(banana=5, mango=7, apple=8, oranges=10))\n",
    "print(total_fruits(banana=5, mango=7))"
   ]
  },
  {
   "cell_type": "code",
   "execution_count": 13,
   "id": "5d3e4fa5-c59d-4f49-a2a1-5b59659d8c53",
   "metadata": {},
   "outputs": [
    {
     "name": "stdout",
     "output_type": "stream",
     "text": [
      "[2, 4, 6, 8, 10]\n"
     ]
    }
   ],
   "source": [
    "# Q3:- Ans\n",
    "# Python Iterators\n",
    "# An iterator is an object that contains a countable number of values.\n",
    "\n",
    "# An iterator is an object that can be iterated upon, meaning that you can traverse through all the values.\n",
    "\n",
    "# Technically, in Python, an iterator is an object which implements the iterator protocol, which consist of the methods __iter__() and __next__().\n",
    "\n",
    "\n",
    "# The iterator object is initialized using the iter() method. It uses the next() method for iteration\n",
    "def printValues(list):\n",
    "\t\n",
    "    print (list[ :5])\n",
    "\n",
    "list= [2, 4, 6, 8, 10, 12, 14,16, 18, 20]\n",
    "printValues(list)"
   ]
  },
  {
   "cell_type": "code",
   "execution_count": 17,
   "id": "d248de72-9ae4-4904-960e-26bfc8ed44a3",
   "metadata": {},
   "outputs": [
    {
     "name": "stdout",
     "output_type": "stream",
     "text": [
      "0\n",
      "1\n",
      "2\n"
     ]
    }
   ],
   "source": [
    "# Q4:-Ans\n",
    "# A generator is a function that returns an iterator that produces a sequence of values when iterated over.\n",
    "# Generators are useful when we want to produce a large sequence of values, but \n",
    "# we don't want to store all of them in memory at once.\n",
    "\n",
    "# yield keyword is used to create a generator function. A type of function that is memory \n",
    "# efficient and can be used like an iterator object. In layman terms, the yield keyword will turn\n",
    "# any expression that is given with it into a generator object and return it to the caller.\n",
    "def my_generator(n):\n",
    "\n",
    "    value = 0\n",
    "    \n",
    "    while value < n:\n",
    "        \n",
    "        yield value\n",
    "\n",
    "        value += 1\n",
    "\n",
    "for value in my_generator(3):\n",
    "\n",
    "    print(value)"
   ]
  },
  {
   "cell_type": "code",
   "execution_count": 25,
   "id": "23d9527e-6c9c-49bd-89ba-cba433d720de",
   "metadata": {},
   "outputs": [
    {
     "name": "stdout",
     "output_type": "stream",
     "text": [
      "2\n",
      "3\n",
      "5\n",
      "7\n",
      "11\n",
      "13\n",
      "17\n",
      "19\n",
      "23\n",
      "29\n",
      "31\n",
      "37\n",
      "41\n",
      "43\n",
      "47\n",
      "53\n",
      "59\n",
      "61\n",
      "67\n",
      "71\n"
     ]
    }
   ],
   "source": [
    "# Q5:- Ans\n",
    "from math import sqrt\n",
    "\n",
    "def is_prime(n):\n",
    "    if (n <= 1):\n",
    "        return False\n",
    "    if (n == 2):\n",
    "        return True\n",
    "    if (n % 2 == 0):\n",
    "        return False\n",
    "\n",
    "    i = 3\n",
    "    while i <= sqrt(n):\n",
    "        if n % i == 0:\n",
    "            return False\n",
    "        i = i + 2\n",
    "\n",
    "    return True\n",
    "def prime_generator():\n",
    "    n = 1\n",
    "    while True:\n",
    "        n += 1\n",
    "        if is_prime(n):\n",
    "            yield n\n",
    "generator = prime_generator()\n",
    "\n",
    "for i in range(20):\n",
    "    print(next(generator))"
   ]
  },
  {
   "cell_type": "code",
   "execution_count": 30,
   "id": "6246bb07-3b9a-4e56-bd34-69649e24368a",
   "metadata": {},
   "outputs": [
    {
     "name": "stdout",
     "output_type": "stream",
     "text": [
      "0\n",
      "1\n",
      "1\n",
      "2\n",
      "3\n",
      "5\n",
      "8\n",
      "13\n",
      "21\n",
      "34\n"
     ]
    }
   ],
   "source": [
    "# Q6:-Ans\n",
    "num=10\n",
    "\n",
    "i=1\n",
    "\n",
    "a,b=0,1\n",
    "\n",
    "while i<=num :\n",
    "    \n",
    "    print(a)\n",
    "    \n",
    "    c=a+b\n",
    "    \n",
    "    a=b\n",
    "    \n",
    "    b=c\n",
    "    \n",
    "    i=i+1\n"
   ]
  },
  {
   "cell_type": "code",
   "execution_count": 35,
   "id": "551516af-5029-40ec-a6a5-2f1f6fe96d65",
   "metadata": {},
   "outputs": [
    {
     "name": "stdout",
     "output_type": "stream",
     "text": [
      "['p', 'w', 's', 'k', 'i', 'l', 'l', 's']\n"
     ]
    }
   ],
   "source": [
    "# Q7 :-Ans\n",
    "h_letters = [ letter for letter in 'pwskills' ]\n",
    "\n",
    "print( h_letters)"
   ]
  },
  {
   "cell_type": "code",
   "execution_count": 39,
   "id": "343b36b8-47a8-42a4-bca6-2087d9e346ee",
   "metadata": {},
   "outputs": [
    {
     "name": "stdin",
     "output_type": "stream",
     "text": [
      "Enter a number: 12321\n"
     ]
    },
    {
     "name": "stdout",
     "output_type": "stream",
     "text": [
      "The number is palindrome!\n"
     ]
    }
   ],
   "source": [
    "# Q8:-Ans \n",
    "\n",
    "num=int(input(\"Enter a number:\"))\n",
    "temp=num\n",
    "rev=0\n",
    "while(num>0):\n",
    "    dig=num%10\n",
    "    rev=rev*10+dig\n",
    "    num=num//10\n",
    "if(temp==rev):\n",
    "    print(\"The number is palindrome!\")\n",
    "else:\n",
    "    print(\"Not a palindrome!\")"
   ]
  },
  {
   "cell_type": "code",
   "execution_count": 42,
   "id": "10e64431-5254-426e-8f34-cf7ad4e0f693",
   "metadata": {},
   "outputs": [
    {
     "name": "stdout",
     "output_type": "stream",
     "text": [
      "[1, 3, 5, 7, 9, 11, 13, 15, 17, 19, 21, 23, 25, 27, 29, 31, 33, 35, 37, 39, 41, 43, 45, 47, 49, 51, 53, 55, 57, 59, 61, 63, 65, 67, 69, 71, 73, 75, 77, 79, 81, 83, 85, 87, 89, 91, 93, 95, 97, 99]\n"
     ]
    }
   ],
   "source": [
    "# Q9 :-Ans\n",
    "odd_num=[ i for i in range(1,100) if i %2 != 0 ]\n",
    "print(odd_num)"
   ]
  },
  {
   "cell_type": "code",
   "execution_count": null,
   "id": "fbb696da-7ea2-49ba-b5b8-a87cfc06b2ca",
   "metadata": {},
   "outputs": [],
   "source": []
  }
 ],
 "metadata": {
  "kernelspec": {
   "display_name": "Python 3 (ipykernel)",
   "language": "python",
   "name": "python3"
  },
  "language_info": {
   "codemirror_mode": {
    "name": "ipython",
    "version": 3
   },
   "file_extension": ".py",
   "mimetype": "text/x-python",
   "name": "python",
   "nbconvert_exporter": "python",
   "pygments_lexer": "ipython3",
   "version": "3.10.8"
  }
 },
 "nbformat": 4,
 "nbformat_minor": 5
}
